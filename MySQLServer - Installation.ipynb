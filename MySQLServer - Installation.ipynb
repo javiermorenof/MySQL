{
 "cells": [
  {
   "cell_type": "markdown",
   "metadata": {},
   "source": [
    "# MySQL"
   ]
  },
  {
   "cell_type": "markdown",
   "metadata": {},
   "source": [
    "## Requirements:\n",
    "\n",
    "### Instalar MySQLServer y MySQL Workbench\n",
    "\n",
    "Se puede descargar en el siguiente [enlace](https://dev.mysql.com/downloads/mysql/)\n",
    "\n",
    "A continuación se deja un [vídeo](https://www.youtube.com/watch?v=FQ7XAygh0qA) para facilitar su instalación.\n",
    "\n",
    "### Instalar XAMPP\n",
    "\n",
    "Se debe instalar XAMPP. XAMPP, siglas de X (sistema operativo), A (apache), M(MySQL), P (PHP), P (Perl), es un paquete de herramientas que hace las funciones de servidor multiplataforma para el alojamiento, gestión y creación de páginas web con bases de datos. Es una herramienta de licencia libre GNU que es capaz de convertir nuestro equipo de forma totalmente gratuita en un servidor web capaz de alojar páginas web en distintos lenguajes de programas como PHP y Perl. Se puede descargar en la [página we oficial](https://www.apachefriends.org/es/download_success.html).\n",
    "\n",
    "A continuación se deja un [vídeo](https://www.youtube.com/watch?v=M8EH-D8fNmQ) para su instalación"
   ]
  },
  {
   "cell_type": "markdown",
   "metadata": {},
   "source": [
    "## Ejecución\n",
    "\n",
    "### Ejecutando MySQL en CMD\n",
    "\n",
    "Para poder ejecutar MYSQL en CMD hay que ir al directorio y ejecutar:\n",
    "\n",
    "```console\n",
    "C:\\xampp\\mysql\\bin\\> \n",
    "C:\\xampp\\mysql\\bin\\> mysql -u root -p\n",
    "\n",
    "```\n",
    "Sin embargo, para que sea más fácil podemos nombrar como variable de entorno y poder ejecutarlo desde cualquier carpeta. Para ello, vamos en el **Panel de Control** de Windows a **Sistema > Configuración avanzada del sistema > Variables de entorno** y en variables del sistema editamos **Path** y añadimos como nuevo: `C:\\xampp\\mysql\\bin\\`.\n",
    "\n",
    "Con ello ya podemos escribir el comando `mysql -u root -p` desde cualquier directorio en cmd."
   ]
  },
  {
   "cell_type": "markdown",
   "metadata": {},
   "source": [
    "### Solución de errores\n",
    "\n",
    "Si en la pantalla principal de XAMPP damos en actions **START** MySQL y no nos deja, indicando que hay un problema en el puerto 3306, se soluciona de la siguiente manera:\n",
    "\n",
    "- En el mismo menú se hace click en **config** y se entra en el archivo *my.ini*. Se modifica el puerto 3306 por 3307. Aparece dos veces en el archivo, hay que modificarlo ambas.\n",
    "- En el mismo menú, en **config > Service & Ports Settings > MySQL** se cambia el puerto también a 3307.\n",
    "- Se intenta arrancar ahora y entrar haciendo click en **Admin**. Si sigue dando error, se arranca Apache y MySQL, ambos. En el menú se va a la opción **Explorer** y se modifica la línea:\n",
    "\n",
    "```console\n",
    "$cfg['Servers'][$i]['host'] = '127.0.0.1';\n",
    "```\n",
    "\n",
    "por:\n",
    "\n",
    "```console\n",
    "$cfg['Servers'][$i]['host'] = '127.0.0.1:3307';\n",
    "```\n",
    "\n",
    "- Se entra en **Admin** ahora.\n",
    "\n",
    "### Solución de errores 2\n",
    "\n",
    "Otro error común es que tras ejecutar `mysql -u root -p` en CMD nos devuelva: \n",
    "```console\n",
    "ERROR 1045 (28000): Plugin caching_sha2_password could not be loaded: No se puede encontrar el m¾dulo especificado. Library path is 'C:/Program Files (x86)/MySQL/lib/plugin/caching_sha2_password.dll'\n",
    "```\n",
    "\n",
    "Para solucionarlo: \n",
    "- En el menú principal de xampp, en **config** y *my.ini*, se añade justo debajo de [mysqld]\n",
    "\n",
    "```console \n",
    "default_authentication_plugin=mysql_native_password\n",
    "```\n",
    "\n",
    "- Tras instalar MySQL Server se habrá instalado una consola de comandos llamada **MYSQL 8.0 Command Line Client**. Se conecta con la contraseña de MySQL y se escribe\n",
    "\n",
    "```console\n",
    "ALTER USER 'root'@'localhost' IDENTIFIED WITH mysql_native_password BY 'root';\n",
    "```\n",
    "\n",
    "- Siendo el último `root` la nueva contraseña que se quiera poner. Si poe error se pone **root**, esa será la nueva contraseña y se puede hacer lo mismo para cambiarla."
   ]
  }
 ],
 "metadata": {
  "kernelspec": {
   "display_name": "tfm",
   "language": "python",
   "name": "tfm"
  },
  "language_info": {
   "codemirror_mode": {
    "name": "ipython",
    "version": 3
   },
   "file_extension": ".py",
   "mimetype": "text/x-python",
   "name": "python",
   "nbconvert_exporter": "python",
   "pygments_lexer": "ipython3",
   "version": "3.7.7"
  }
 },
 "nbformat": 4,
 "nbformat_minor": 4
}
